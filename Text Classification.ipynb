{
 "cells": [
  {
   "cell_type": "markdown",
   "id": "06a68991",
   "metadata": {},
   "source": [
    "#  Azure Text Classification - preprocessed vs unprocessed data"
   ]
  },
  {
   "cell_type": "code",
   "execution_count": 3,
   "id": "fe90a3a7",
   "metadata": {},
   "outputs": [],
   "source": [
    "import os\n",
    "import pandas as pd\n",
    "import numpy as np"
   ]
  },
  {
   "cell_type": "markdown",
   "id": "21605c93",
   "metadata": {},
   "source": [
    "Below I loop through the text files in the data folder, create a dictionary with the file's text and name, and then save the dictionaries in a list named `text_data`. The list is then convereted into a dataframe and saved as data.csv."
   ]
  },
  {
   "cell_type": "code",
   "execution_count": 4,
   "id": "70a834c0",
   "metadata": {},
   "outputs": [],
   "source": [
    "text_data = []\n",
    "\n",
    "for root, directories, files in os.walk(\"data\"):\n",
    "    for filename in files:\n",
    "        if filename.endswith(\".txt\"):\n",
    "            text_data.append({\"text\": open(f\"data/{filename}\").read(), \"filename\": filename})"
   ]
  },
  {
   "cell_type": "code",
   "execution_count": 5,
   "id": "9a0ee499",
   "metadata": {},
   "outputs": [],
   "source": [
    "df = pd.DataFrame(text_data)\n",
    "df.to_csv('data.csv', index=False)"
   ]
  },
  {
   "cell_type": "code",
   "execution_count": 6,
   "id": "dbdd4cf2",
   "metadata": {},
   "outputs": [],
   "source": [
    "df = pd.read_csv('data.csv')"
   ]
  },
  {
   "cell_type": "code",
   "execution_count": 7,
   "id": "922f09d7",
   "metadata": {},
   "outputs": [
    {
     "data": {
      "text/html": [
       "<div>\n",
       "<style scoped>\n",
       "    .dataframe tbody tr th:only-of-type {\n",
       "        vertical-align: middle;\n",
       "    }\n",
       "\n",
       "    .dataframe tbody tr th {\n",
       "        vertical-align: top;\n",
       "    }\n",
       "\n",
       "    .dataframe thead th {\n",
       "        text-align: right;\n",
       "    }\n",
       "</style>\n",
       "<table border=\"1\" class=\"dataframe\">\n",
       "  <thead>\n",
       "    <tr style=\"text-align: right;\">\n",
       "      <th></th>\n",
       "      <th>text</th>\n",
       "      <th>filename</th>\n",
       "    </tr>\n",
       "  </thead>\n",
       "  <tbody>\n",
       "    <tr>\n",
       "      <th>0</th>\n",
       "      <td>A versatile potentiostat based on inexpensive ...</td>\n",
       "      <td>060.txt</td>\n",
       "    </tr>\n",
       "    <tr>\n",
       "      <th>1</th>\n",
       "      <td>Introduction: Family plays an important role i...</td>\n",
       "      <td>074.txt</td>\n",
       "    </tr>\n",
       "    <tr>\n",
       "      <th>2</th>\n",
       "      <td>A novel hybrid system composed of a photocatal...</td>\n",
       "      <td>048.txt</td>\n",
       "    </tr>\n",
       "    <tr>\n",
       "      <th>3</th>\n",
       "      <td>In Einstein-aether theory, violating Lorentz i...</td>\n",
       "      <td>114.txt</td>\n",
       "    </tr>\n",
       "    <tr>\n",
       "      <th>4</th>\n",
       "      <td>With the vigorous spread of renewable energy, ...</td>\n",
       "      <td>100.txt</td>\n",
       "    </tr>\n",
       "  </tbody>\n",
       "</table>\n",
       "</div>"
      ],
      "text/plain": [
       "                                                text filename\n",
       "0  A versatile potentiostat based on inexpensive ...  060.txt\n",
       "1  Introduction: Family plays an important role i...  074.txt\n",
       "2  A novel hybrid system composed of a photocatal...  048.txt\n",
       "3  In Einstein-aether theory, violating Lorentz i...  114.txt\n",
       "4  With the vigorous spread of renewable energy, ...  100.txt"
      ]
     },
     "execution_count": 7,
     "metadata": {},
     "output_type": "execute_result"
    }
   ],
   "source": [
    "df.head(5)"
   ]
  },
  {
   "cell_type": "markdown",
   "id": "085fc606",
   "metadata": {},
   "source": [
    "## Feature Extraction and Preprocessing \n",
    "\n",
    "The following feature extraction and preprocessing code is based on the work found here: https://github.com/EnesGokceDS/Amazon_Reviews_NLP_Capstone_Project"
   ]
  },
  {
   "cell_type": "code",
   "execution_count": 8,
   "id": "43b4b882",
   "metadata": {},
   "outputs": [
    {
     "name": "stderr",
     "output_type": "stream",
     "text": [
      "[nltk_data] Downloading package stopwords to\n",
      "[nltk_data]     /Users/patmellon/nltk_data...\n",
      "[nltk_data]   Package stopwords is already up-to-date!\n",
      "[nltk_data] Downloading package wordnet to\n",
      "[nltk_data]     /Users/patmellon/nltk_data...\n",
      "[nltk_data]   Package wordnet is already up-to-date!\n",
      "[nltk_data] Downloading package punkt to /Users/patmellon/nltk_data...\n",
      "[nltk_data]   Package punkt is already up-to-date!\n",
      "[nltk_data] Downloading package averaged_perceptron_tagger to\n",
      "[nltk_data]     /Users/patmellon/nltk_data...\n",
      "[nltk_data]   Package averaged_perceptron_tagger is already up-to-\n",
      "[nltk_data]       date!\n"
     ]
    }
   ],
   "source": [
    "import wordcloud\n",
    "from nltk.corpus import stopwords\n",
    "import nltk\n",
    "import string\n",
    "nltk.download('stopwords')\n",
    "nltk.download('wordnet')\n",
    "nltk.download('punkt')\n",
    "nltk.download('averaged_perceptron_tagger')\n",
    "stop = stopwords.words('english')"
   ]
  },
  {
   "cell_type": "code",
   "execution_count": 9,
   "id": "8b754959",
   "metadata": {},
   "outputs": [
    {
     "data": {
      "text/html": [
       "<div>\n",
       "<style scoped>\n",
       "    .dataframe tbody tr th:only-of-type {\n",
       "        vertical-align: middle;\n",
       "    }\n",
       "\n",
       "    .dataframe tbody tr th {\n",
       "        vertical-align: top;\n",
       "    }\n",
       "\n",
       "    .dataframe thead th {\n",
       "        text-align: right;\n",
       "    }\n",
       "</style>\n",
       "<table border=\"1\" class=\"dataframe\">\n",
       "  <thead>\n",
       "    <tr style=\"text-align: right;\">\n",
       "      <th></th>\n",
       "      <th>text</th>\n",
       "      <th>stopwords</th>\n",
       "    </tr>\n",
       "  </thead>\n",
       "  <tbody>\n",
       "    <tr>\n",
       "      <th>0</th>\n",
       "      <td>A versatile potentiostat based on inexpensive ...</td>\n",
       "      <td>42</td>\n",
       "    </tr>\n",
       "    <tr>\n",
       "      <th>1</th>\n",
       "      <td>Introduction: Family plays an important role i...</td>\n",
       "      <td>84</td>\n",
       "    </tr>\n",
       "    <tr>\n",
       "      <th>2</th>\n",
       "      <td>A novel hybrid system composed of a photocatal...</td>\n",
       "      <td>40</td>\n",
       "    </tr>\n",
       "    <tr>\n",
       "      <th>3</th>\n",
       "      <td>In Einstein-aether theory, violating Lorentz i...</td>\n",
       "      <td>45</td>\n",
       "    </tr>\n",
       "    <tr>\n",
       "      <th>4</th>\n",
       "      <td>With the vigorous spread of renewable energy, ...</td>\n",
       "      <td>72</td>\n",
       "    </tr>\n",
       "  </tbody>\n",
       "</table>\n",
       "</div>"
      ],
      "text/plain": [
       "                                                text  stopwords\n",
       "0  A versatile potentiostat based on inexpensive ...         42\n",
       "1  Introduction: Family plays an important role i...         84\n",
       "2  A novel hybrid system composed of a photocatal...         40\n",
       "3  In Einstein-aether theory, violating Lorentz i...         45\n",
       "4  With the vigorous spread of renewable energy, ...         72"
      ]
     },
     "execution_count": 9,
     "metadata": {},
     "output_type": "execute_result"
    }
   ],
   "source": [
    "# Count the stopwords\n",
    "df['stopwords'] = df['text'].apply(lambda x: len([x for x in x.split() if x in stop]))\n",
    "df[['text','stopwords']].head()"
   ]
  },
  {
   "cell_type": "code",
   "execution_count": 10,
   "id": "a3d13631",
   "metadata": {},
   "outputs": [],
   "source": [
    "# Count the punctuation\n",
    "def count_punct(text):\n",
    "    count = sum([1 for char in text if char in string.punctuation])\n",
    "    return count\n",
    "\n",
    "df['punctuation'] = df['text'].apply(lambda x: count_punct(x))"
   ]
  },
  {
   "cell_type": "code",
   "execution_count": 11,
   "id": "3071781e",
   "metadata": {},
   "outputs": [
    {
     "data": {
      "text/html": [
       "<div>\n",
       "<style scoped>\n",
       "    .dataframe tbody tr th:only-of-type {\n",
       "        vertical-align: middle;\n",
       "    }\n",
       "\n",
       "    .dataframe tbody tr th {\n",
       "        vertical-align: top;\n",
       "    }\n",
       "\n",
       "    .dataframe thead th {\n",
       "        text-align: right;\n",
       "    }\n",
       "</style>\n",
       "<table border=\"1\" class=\"dataframe\">\n",
       "  <thead>\n",
       "    <tr style=\"text-align: right;\">\n",
       "      <th></th>\n",
       "      <th>text</th>\n",
       "      <th>punctuation</th>\n",
       "    </tr>\n",
       "  </thead>\n",
       "  <tbody>\n",
       "    <tr>\n",
       "      <th>0</th>\n",
       "      <td>A versatile potentiostat based on inexpensive ...</td>\n",
       "      <td>12</td>\n",
       "    </tr>\n",
       "    <tr>\n",
       "      <th>1</th>\n",
       "      <td>Introduction: Family plays an important role i...</td>\n",
       "      <td>27</td>\n",
       "    </tr>\n",
       "    <tr>\n",
       "      <th>2</th>\n",
       "      <td>A novel hybrid system composed of a photocatal...</td>\n",
       "      <td>23</td>\n",
       "    </tr>\n",
       "    <tr>\n",
       "      <th>3</th>\n",
       "      <td>In Einstein-aether theory, violating Lorentz i...</td>\n",
       "      <td>27</td>\n",
       "    </tr>\n",
       "    <tr>\n",
       "      <th>4</th>\n",
       "      <td>With the vigorous spread of renewable energy, ...</td>\n",
       "      <td>26</td>\n",
       "    </tr>\n",
       "  </tbody>\n",
       "</table>\n",
       "</div>"
      ],
      "text/plain": [
       "                                                text  punctuation\n",
       "0  A versatile potentiostat based on inexpensive ...           12\n",
       "1  Introduction: Family plays an important role i...           27\n",
       "2  A novel hybrid system composed of a photocatal...           23\n",
       "3  In Einstein-aether theory, violating Lorentz i...           27\n",
       "4  With the vigorous spread of renewable energy, ...           26"
      ]
     },
     "execution_count": 11,
     "metadata": {},
     "output_type": "execute_result"
    }
   ],
   "source": [
    "df[['text','punctuation']].head()"
   ]
  },
  {
   "cell_type": "code",
   "execution_count": 12,
   "id": "8210c637",
   "metadata": {},
   "outputs": [
    {
     "data": {
      "text/html": [
       "<div>\n",
       "<style scoped>\n",
       "    .dataframe tbody tr th:only-of-type {\n",
       "        vertical-align: middle;\n",
       "    }\n",
       "\n",
       "    .dataframe tbody tr th {\n",
       "        vertical-align: top;\n",
       "    }\n",
       "\n",
       "    .dataframe thead th {\n",
       "        text-align: right;\n",
       "    }\n",
       "</style>\n",
       "<table border=\"1\" class=\"dataframe\">\n",
       "  <thead>\n",
       "    <tr style=\"text-align: right;\">\n",
       "      <th></th>\n",
       "      <th>text</th>\n",
       "      <th>numerics</th>\n",
       "    </tr>\n",
       "  </thead>\n",
       "  <tbody>\n",
       "    <tr>\n",
       "      <th>0</th>\n",
       "      <td>A versatile potentiostat based on inexpensive ...</td>\n",
       "      <td>0</td>\n",
       "    </tr>\n",
       "    <tr>\n",
       "      <th>1</th>\n",
       "      <td>Introduction: Family plays an important role i...</td>\n",
       "      <td>1</td>\n",
       "    </tr>\n",
       "    <tr>\n",
       "      <th>2</th>\n",
       "      <td>A novel hybrid system composed of a photocatal...</td>\n",
       "      <td>2</td>\n",
       "    </tr>\n",
       "    <tr>\n",
       "      <th>3</th>\n",
       "      <td>In Einstein-aether theory, violating Lorentz i...</td>\n",
       "      <td>0</td>\n",
       "    </tr>\n",
       "    <tr>\n",
       "      <th>4</th>\n",
       "      <td>With the vigorous spread of renewable energy, ...</td>\n",
       "      <td>1</td>\n",
       "    </tr>\n",
       "  </tbody>\n",
       "</table>\n",
       "</div>"
      ],
      "text/plain": [
       "                                                text  numerics\n",
       "0  A versatile potentiostat based on inexpensive ...         0\n",
       "1  Introduction: Family plays an important role i...         1\n",
       "2  A novel hybrid system composed of a photocatal...         2\n",
       "3  In Einstein-aether theory, violating Lorentz i...         0\n",
       "4  With the vigorous spread of renewable energy, ...         1"
      ]
     },
     "execution_count": 12,
     "metadata": {},
     "output_type": "execute_result"
    }
   ],
   "source": [
    "# Count the numbers\n",
    "df['numerics'] = df['text'].apply(lambda x: len([x for x in x.split() if x.isdigit()]))\n",
    "df[['text','numerics']].head()"
   ]
  },
  {
   "cell_type": "code",
   "execution_count": 13,
   "id": "0fe8800b",
   "metadata": {},
   "outputs": [
    {
     "data": {
      "text/html": [
       "<div>\n",
       "<style scoped>\n",
       "    .dataframe tbody tr th:only-of-type {\n",
       "        vertical-align: middle;\n",
       "    }\n",
       "\n",
       "    .dataframe tbody tr th {\n",
       "        vertical-align: top;\n",
       "    }\n",
       "\n",
       "    .dataframe thead th {\n",
       "        text-align: right;\n",
       "    }\n",
       "</style>\n",
       "<table border=\"1\" class=\"dataframe\">\n",
       "  <thead>\n",
       "    <tr style=\"text-align: right;\">\n",
       "      <th></th>\n",
       "      <th>text</th>\n",
       "      <th>upper</th>\n",
       "    </tr>\n",
       "  </thead>\n",
       "  <tbody>\n",
       "    <tr>\n",
       "      <th>0</th>\n",
       "      <td>A versatile potentiostat based on inexpensive ...</td>\n",
       "      <td>1</td>\n",
       "    </tr>\n",
       "    <tr>\n",
       "      <th>1</th>\n",
       "      <td>Introduction: Family plays an important role i...</td>\n",
       "      <td>2</td>\n",
       "    </tr>\n",
       "    <tr>\n",
       "      <th>2</th>\n",
       "      <td>A novel hybrid system composed of a photocatal...</td>\n",
       "      <td>12</td>\n",
       "    </tr>\n",
       "    <tr>\n",
       "      <th>3</th>\n",
       "      <td>In Einstein-aether theory, violating Lorentz i...</td>\n",
       "      <td>0</td>\n",
       "    </tr>\n",
       "    <tr>\n",
       "      <th>4</th>\n",
       "      <td>With the vigorous spread of renewable energy, ...</td>\n",
       "      <td>2</td>\n",
       "    </tr>\n",
       "  </tbody>\n",
       "</table>\n",
       "</div>"
      ],
      "text/plain": [
       "                                                text  upper\n",
       "0  A versatile potentiostat based on inexpensive ...      1\n",
       "1  Introduction: Family plays an important role i...      2\n",
       "2  A novel hybrid system composed of a photocatal...     12\n",
       "3  In Einstein-aether theory, violating Lorentz i...      0\n",
       "4  With the vigorous spread of renewable energy, ...      2"
      ]
     },
     "execution_count": 13,
     "metadata": {},
     "output_type": "execute_result"
    }
   ],
   "source": [
    "# Count the uppercase words\n",
    "df['upper'] = df['text'].apply(lambda x: len([x for x in x.split() if x.isupper()]))\n",
    "df[['text','upper']].head()"
   ]
  },
  {
   "cell_type": "code",
   "execution_count": 14,
   "id": "fb7daf13",
   "metadata": {},
   "outputs": [
    {
     "data": {
      "text/plain": [
       "0    a versatile potentiostat based on inexpensive ...\n",
       "1    introduction: family plays an important role i...\n",
       "2    a novel hybrid system composed of a photocatal...\n",
       "3    in einstein-aether theory, violating lorentz i...\n",
       "4    with the vigorous spread of renewable energy, ...\n",
       "Name: text, dtype: object"
      ]
     },
     "execution_count": 14,
     "metadata": {},
     "output_type": "execute_result"
    }
   ],
   "source": [
    "# Convert text to lowercase\n",
    "df['text'] = df['text'].apply(lambda x: \" \".join(x.lower() for x in x.split()))\n",
    "df['text'].head()"
   ]
  },
  {
   "cell_type": "code",
   "execution_count": 15,
   "id": "6483aadf",
   "metadata": {},
   "outputs": [
    {
     "name": "stderr",
     "output_type": "stream",
     "text": [
      "/var/folders/fx/wfh1hq7s74l7s32dj3t81jdc0000gn/T/ipykernel_31686/29999520.py:2: FutureWarning: The default value of regex will change from True to False in a future version.\n",
      "  df['text'] = df['text'].str.replace('[^\\w\\s]','')\n"
     ]
    },
    {
     "data": {
      "text/plain": [
       "0    a versatile potentiostat based on inexpensive ...\n",
       "1    introduction family plays an important role in...\n",
       "2    a novel hybrid system composed of a photocatal...\n",
       "3    in einsteinaether theory violating lorentz inv...\n",
       "4    with the vigorous spread of renewable energy m...\n",
       "Name: text, dtype: object"
      ]
     },
     "execution_count": 15,
     "metadata": {},
     "output_type": "execute_result"
    }
   ],
   "source": [
    "# Remove punctuation\n",
    "df['text'] = df['text'].str.replace('[^\\w\\s]','')\n",
    "df['text'].head()"
   ]
  },
  {
   "cell_type": "code",
   "execution_count": 16,
   "id": "180b8adf",
   "metadata": {},
   "outputs": [
    {
     "data": {
      "text/plain": [
       "6      several studies investigating causes delay pro...\n",
       "134    simple fast sensitive accurate methodology bas...\n",
       "81     neural circuit solve system simultaneous linea...\n",
       "120    paper focuses analyzing concepts green buildin...\n",
       "91     background erythropoiesisstimulating agents es...\n",
       "27     every evolution fluid uniquely described energ...\n",
       "48     purpose study examine health children born cos...\n",
       "167    novel dispersive delay structure dds based com...\n",
       "25     selection suitable working fluids use organic ...\n",
       "78     prenatal maternal diet may influence disease s...\n",
       "Name: text, dtype: object"
      ]
     },
     "execution_count": 16,
     "metadata": {},
     "output_type": "execute_result"
    }
   ],
   "source": [
    "# Remove stop words\n",
    "from nltk.corpus import stopwords\n",
    "stop = stopwords.words('english')\n",
    "df['text'] = df['text'].apply(lambda x: \" \".join(x for x in x.split() if x not in stop))\n",
    "df['text'].sample(10)"
   ]
  },
  {
   "cell_type": "code",
   "execution_count": 17,
   "id": "0fd8e877",
   "metadata": {},
   "outputs": [
    {
     "data": {
      "text/plain": [
       "0    versatile potentiostat based expensive shelf c...\n",
       "1    introduction family plays important role patie...\n",
       "2    novel horrid system composed photocatalytic fu...\n",
       "3    einsteinaether theory violating lorentz varian...\n",
       "4    vigorous spread renewal energy much attention ...\n",
       "Name: text, dtype: object"
      ]
     },
     "execution_count": 17,
     "metadata": {},
     "output_type": "execute_result"
    }
   ],
   "source": [
    "# Correct spelling\n",
    "from textblob import TextBlob\n",
    "df['text'][:5].apply(lambda x: str(TextBlob(x).correct()))"
   ]
  },
  {
   "cell_type": "code",
   "execution_count": 18,
   "id": "5cd137a7",
   "metadata": {},
   "outputs": [],
   "source": [
    "# Save the preprocessed_data as a new CSV\n",
    "df.to_csv('processed_data.csv', index=False)"
   ]
  },
  {
   "cell_type": "markdown",
   "id": "cb29716c",
   "metadata": {},
   "source": [
    "### Upload data to Azure\n",
    "\n",
    "The below code is based on this Quickstart guide: https://docs.microsoft.com/en-us/azure/storage/blobs/storage-quickstart-blobs-python?tabs=environment-variable-linux."
   ]
  },
  {
   "cell_type": "code",
   "execution_count": 20,
   "id": "55c5720c",
   "metadata": {},
   "outputs": [
    {
     "name": "stdout",
     "output_type": "stream",
     "text": [
      "Azure Blob Storage v12.13.0 - Python quickstart sample\n"
     ]
    }
   ],
   "source": [
    "from azure.storage.blob import BlobServiceClient\n",
    "from dotenv import load_dotenv\n",
    "\n",
    "load_dotenv()\n",
    "\n",
    "AZURE_STORAGE_CONNECTION_STRING = os.getenv(\"AZURE_STORAGE_CONNECTION_STRING\")\n",
    "CONTAINER_NAME = os.getenv(\"CONTAINER_NAME\")\n",
    "\n",
    "blob_service_client = BlobServiceClient.from_connection_string(AZURE_STORAGE_CONNECTION_STRING)\n",
    "\n",
    "try:\n",
    "    print(\"Uploading...\")\n",
    "    \n",
    "    # Loop through each row and upload to Azure\n",
    "    for _index, row in df.iterrows():\n",
    "        blob_client = blob_service_client.get_blob_client(container=CONTAINER_NAME, blob=row['filename'])\n",
    "        # Set overwrite to true \n",
    "        blob_client.upload_blob(row['text'], overwrite=True)\n",
    "    \n",
    "    print(\"Finished\")\n",
    "\n",
    "except Exception as ex:\n",
    "    print('Exception:')\n",
    "    print(ex)"
   ]
  },
  {
   "cell_type": "code",
   "execution_count": null,
   "id": "687ad886",
   "metadata": {},
   "outputs": [],
   "source": [
    "# Remove numbers, lemmatization, and whitespace"
   ]
  },
  {
   "cell_type": "code",
   "execution_count": 22,
   "id": "13837363",
   "metadata": {},
   "outputs": [
    {
     "name": "stderr",
     "output_type": "stream",
     "text": [
      "/var/folders/fx/wfh1hq7s74l7s32dj3t81jdc0000gn/T/ipykernel_31686/2328929680.py:1: FutureWarning: The default value of regex will change from True to False in a future version.\n",
      "  df['text'] = df['text'].str.replace('\\d+', '')\n"
     ]
    },
    {
     "data": {
      "text/plain": [
       "0    versatile potentiostat based inexpensive shelf...\n",
       "1    introduction family plays important role patie...\n",
       "2    novel hybrid system composed photocatalytic fu...\n",
       "3    einsteinaether theory violating lorentz invari...\n",
       "4    vigorous spread renewable energy much attentio...\n",
       "Name: text, dtype: object"
      ]
     },
     "execution_count": 22,
     "metadata": {},
     "output_type": "execute_result"
    }
   ],
   "source": [
    "# Remove numbers\n",
    "df['text'] = df['text'].str.replace('\\d+', '')\n",
    "df['text'].head()"
   ]
  },
  {
   "cell_type": "code",
   "execution_count": null,
   "id": "0af3aaf7",
   "metadata": {},
   "outputs": [],
   "source": []
  }
 ],
 "metadata": {
  "kernelspec": {
   "display_name": "Python 3 (ipykernel)",
   "language": "python",
   "name": "python3"
  },
  "language_info": {
   "codemirror_mode": {
    "name": "ipython",
    "version": 3
   },
   "file_extension": ".py",
   "mimetype": "text/x-python",
   "name": "python",
   "nbconvert_exporter": "python",
   "pygments_lexer": "ipython3",
   "version": "3.8.9"
  }
 },
 "nbformat": 4,
 "nbformat_minor": 5
}
