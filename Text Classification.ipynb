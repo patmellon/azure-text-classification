{
 "cells": [
  {
   "cell_type": "markdown",
   "id": "639eb969",
   "metadata": {},
   "source": [
    "#  Azure Text Classification - preprocessed vs unprocessed data"
   ]
  },
  {
   "cell_type": "code",
   "execution_count": 3,
   "id": "fe90a3a7",
   "metadata": {},
   "outputs": [],
   "source": [
    "import os\n",
    "import pandas as pd\n",
    "import numpy as np"
   ]
  },
  {
   "cell_type": "markdown",
   "id": "f58d2cdb",
   "metadata": {},
   "source": [
    "Below I loop through the text files in the data folder, create a dictionary with the file's text and name, and then save the dictionaries in a list named `text_data`. The list is then convereted into a dataframe and saved as data.csv."
   ]
  },
  {
   "cell_type": "code",
   "execution_count": 4,
   "id": "70a834c0",
   "metadata": {},
   "outputs": [],
   "source": [
    "text_data = []\n",
    "\n",
    "for root, directories, files in os.walk(\"data\"):\n",
    "    for filename in files:\n",
    "        if filename.endswith(\".txt\"):\n",
    "            text_data.append({\"text\": open(f\"data/{filename}\").read(), \"filename\": filename})"
   ]
  },
  {
   "cell_type": "code",
   "execution_count": 5,
   "id": "9a0ee499",
   "metadata": {},
   "outputs": [],
   "source": [
    "df = pd.DataFrame(text_data)\n",
    "df.to_csv('data.csv', index=False)"
   ]
  },
  {
   "cell_type": "code",
   "execution_count": 6,
   "id": "dbdd4cf2",
   "metadata": {},
   "outputs": [],
   "source": [
    "df = pd.read_csv('data.csv')"
   ]
  },
  {
   "cell_type": "code",
   "execution_count": 33,
   "id": "922f09d7",
   "metadata": {},
   "outputs": [
    {
     "data": {
      "text/html": [
       "<div>\n",
       "<style scoped>\n",
       "    .dataframe tbody tr th:only-of-type {\n",
       "        vertical-align: middle;\n",
       "    }\n",
       "\n",
       "    .dataframe tbody tr th {\n",
       "        vertical-align: top;\n",
       "    }\n",
       "\n",
       "    .dataframe thead th {\n",
       "        text-align: right;\n",
       "    }\n",
       "</style>\n",
       "<table border=\"1\" class=\"dataframe\">\n",
       "  <thead>\n",
       "    <tr style=\"text-align: right;\">\n",
       "      <th></th>\n",
       "      <th>text</th>\n",
       "      <th>filename</th>\n",
       "      <th>stopwords</th>\n",
       "      <th>punctuation</th>\n",
       "      <th>numerics</th>\n",
       "      <th>upper</th>\n",
       "    </tr>\n",
       "  </thead>\n",
       "  <tbody>\n",
       "    <tr>\n",
       "      <th>0</th>\n",
       "      <td>versatile potentiostat base inexpensive shelf ...</td>\n",
       "      <td>060.txt</td>\n",
       "      <td>42</td>\n",
       "      <td>12</td>\n",
       "      <td>0</td>\n",
       "      <td>1</td>\n",
       "    </tr>\n",
       "    <tr>\n",
       "      <th>1</th>\n",
       "      <td>introduction family play important role patien...</td>\n",
       "      <td>074.txt</td>\n",
       "      <td>84</td>\n",
       "      <td>27</td>\n",
       "      <td>1</td>\n",
       "      <td>2</td>\n",
       "    </tr>\n",
       "    <tr>\n",
       "      <th>2</th>\n",
       "      <td>novel hybrid compose photocatalytic fuel pfc f...</td>\n",
       "      <td>048.txt</td>\n",
       "      <td>40</td>\n",
       "      <td>23</td>\n",
       "      <td>2</td>\n",
       "      <td>12</td>\n",
       "    </tr>\n",
       "    <tr>\n",
       "      <th>3</th>\n",
       "      <td>einsteinaether theory violate lorentz invarian...</td>\n",
       "      <td>114.txt</td>\n",
       "      <td>45</td>\n",
       "      <td>27</td>\n",
       "      <td>0</td>\n",
       "      <td>0</td>\n",
       "    </tr>\n",
       "    <tr>\n",
       "      <th>4</th>\n",
       "      <td>vigorous spread renewable energy much attentio...</td>\n",
       "      <td>100.txt</td>\n",
       "      <td>72</td>\n",
       "      <td>26</td>\n",
       "      <td>1</td>\n",
       "      <td>2</td>\n",
       "    </tr>\n",
       "  </tbody>\n",
       "</table>\n",
       "</div>"
      ],
      "text/plain": [
       "                                                text filename  stopwords  \\\n",
       "0  versatile potentiostat base inexpensive shelf ...  060.txt         42   \n",
       "1  introduction family play important role patien...  074.txt         84   \n",
       "2  novel hybrid compose photocatalytic fuel pfc f...  048.txt         40   \n",
       "3  einsteinaether theory violate lorentz invarian...  114.txt         45   \n",
       "4  vigorous spread renewable energy much attentio...  100.txt         72   \n",
       "\n",
       "   punctuation  numerics  upper  \n",
       "0           12         0      1  \n",
       "1           27         1      2  \n",
       "2           23         2     12  \n",
       "3           27         0      0  \n",
       "4           26         1      2  "
      ]
     },
     "execution_count": 33,
     "metadata": {},
     "output_type": "execute_result"
    }
   ],
   "source": [
    "df.head(5)"
   ]
  },
  {
   "cell_type": "markdown",
   "id": "2e8f6a40",
   "metadata": {},
   "source": [
    "## Feature Extraction and Preprocessing \n",
    "\n",
    "The following feature extraction and preprocessing code is based on the work found here: https://github.com/EnesGokceDS/Amazon_Reviews_NLP_Capstone_Project"
   ]
  },
  {
   "cell_type": "code",
   "execution_count": 8,
   "id": "43b4b882",
   "metadata": {},
   "outputs": [
    {
     "name": "stderr",
     "output_type": "stream",
     "text": [
      "[nltk_data] Downloading package stopwords to\n",
      "[nltk_data]     /Users/patmellon/nltk_data...\n",
      "[nltk_data]   Package stopwords is already up-to-date!\n",
      "[nltk_data] Downloading package wordnet to\n",
      "[nltk_data]     /Users/patmellon/nltk_data...\n",
      "[nltk_data]   Package wordnet is already up-to-date!\n",
      "[nltk_data] Downloading package punkt to /Users/patmellon/nltk_data...\n",
      "[nltk_data]   Package punkt is already up-to-date!\n",
      "[nltk_data] Downloading package averaged_perceptron_tagger to\n",
      "[nltk_data]     /Users/patmellon/nltk_data...\n",
      "[nltk_data]   Package averaged_perceptron_tagger is already up-to-\n",
      "[nltk_data]       date!\n"
     ]
    }
   ],
   "source": [
    "import wordcloud\n",
    "from nltk.corpus import stopwords\n",
    "import nltk\n",
    "import string\n",
    "nltk.download('stopwords')\n",
    "nltk.download('wordnet')\n",
    "nltk.download('punkt')\n",
    "nltk.download('averaged_perceptron_tagger')\n",
    "stop = stopwords.words('english')"
   ]
  },
  {
   "cell_type": "code",
   "execution_count": 9,
   "id": "8b754959",
   "metadata": {},
   "outputs": [
    {
     "data": {
      "text/html": [
       "<div>\n",
       "<style scoped>\n",
       "    .dataframe tbody tr th:only-of-type {\n",
       "        vertical-align: middle;\n",
       "    }\n",
       "\n",
       "    .dataframe tbody tr th {\n",
       "        vertical-align: top;\n",
       "    }\n",
       "\n",
       "    .dataframe thead th {\n",
       "        text-align: right;\n",
       "    }\n",
       "</style>\n",
       "<table border=\"1\" class=\"dataframe\">\n",
       "  <thead>\n",
       "    <tr style=\"text-align: right;\">\n",
       "      <th></th>\n",
       "      <th>text</th>\n",
       "      <th>stopwords</th>\n",
       "    </tr>\n",
       "  </thead>\n",
       "  <tbody>\n",
       "    <tr>\n",
       "      <th>0</th>\n",
       "      <td>A versatile potentiostat based on inexpensive ...</td>\n",
       "      <td>42</td>\n",
       "    </tr>\n",
       "    <tr>\n",
       "      <th>1</th>\n",
       "      <td>Introduction: Family plays an important role i...</td>\n",
       "      <td>84</td>\n",
       "    </tr>\n",
       "    <tr>\n",
       "      <th>2</th>\n",
       "      <td>A novel hybrid system composed of a photocatal...</td>\n",
       "      <td>40</td>\n",
       "    </tr>\n",
       "    <tr>\n",
       "      <th>3</th>\n",
       "      <td>In Einstein-aether theory, violating Lorentz i...</td>\n",
       "      <td>45</td>\n",
       "    </tr>\n",
       "    <tr>\n",
       "      <th>4</th>\n",
       "      <td>With the vigorous spread of renewable energy, ...</td>\n",
       "      <td>72</td>\n",
       "    </tr>\n",
       "  </tbody>\n",
       "</table>\n",
       "</div>"
      ],
      "text/plain": [
       "                                                text  stopwords\n",
       "0  A versatile potentiostat based on inexpensive ...         42\n",
       "1  Introduction: Family plays an important role i...         84\n",
       "2  A novel hybrid system composed of a photocatal...         40\n",
       "3  In Einstein-aether theory, violating Lorentz i...         45\n",
       "4  With the vigorous spread of renewable energy, ...         72"
      ]
     },
     "execution_count": 9,
     "metadata": {},
     "output_type": "execute_result"
    }
   ],
   "source": [
    "# Count the stopwords\n",
    "df['stopwords'] = df['text'].apply(lambda x: len([x for x in x.split() if x in stop]))\n",
    "df[['text','stopwords']].head()"
   ]
  },
  {
   "cell_type": "code",
   "execution_count": 10,
   "id": "a3d13631",
   "metadata": {},
   "outputs": [],
   "source": [
    "# Count the punctuation\n",
    "def count_punct(text):\n",
    "    count = sum([1 for char in text if char in string.punctuation])\n",
    "    return count\n",
    "\n",
    "df['punctuation'] = df['text'].apply(lambda x: count_punct(x))"
   ]
  },
  {
   "cell_type": "code",
   "execution_count": 11,
   "id": "3071781e",
   "metadata": {},
   "outputs": [
    {
     "data": {
      "text/html": [
       "<div>\n",
       "<style scoped>\n",
       "    .dataframe tbody tr th:only-of-type {\n",
       "        vertical-align: middle;\n",
       "    }\n",
       "\n",
       "    .dataframe tbody tr th {\n",
       "        vertical-align: top;\n",
       "    }\n",
       "\n",
       "    .dataframe thead th {\n",
       "        text-align: right;\n",
       "    }\n",
       "</style>\n",
       "<table border=\"1\" class=\"dataframe\">\n",
       "  <thead>\n",
       "    <tr style=\"text-align: right;\">\n",
       "      <th></th>\n",
       "      <th>text</th>\n",
       "      <th>punctuation</th>\n",
       "    </tr>\n",
       "  </thead>\n",
       "  <tbody>\n",
       "    <tr>\n",
       "      <th>0</th>\n",
       "      <td>A versatile potentiostat based on inexpensive ...</td>\n",
       "      <td>12</td>\n",
       "    </tr>\n",
       "    <tr>\n",
       "      <th>1</th>\n",
       "      <td>Introduction: Family plays an important role i...</td>\n",
       "      <td>27</td>\n",
       "    </tr>\n",
       "    <tr>\n",
       "      <th>2</th>\n",
       "      <td>A novel hybrid system composed of a photocatal...</td>\n",
       "      <td>23</td>\n",
       "    </tr>\n",
       "    <tr>\n",
       "      <th>3</th>\n",
       "      <td>In Einstein-aether theory, violating Lorentz i...</td>\n",
       "      <td>27</td>\n",
       "    </tr>\n",
       "    <tr>\n",
       "      <th>4</th>\n",
       "      <td>With the vigorous spread of renewable energy, ...</td>\n",
       "      <td>26</td>\n",
       "    </tr>\n",
       "  </tbody>\n",
       "</table>\n",
       "</div>"
      ],
      "text/plain": [
       "                                                text  punctuation\n",
       "0  A versatile potentiostat based on inexpensive ...           12\n",
       "1  Introduction: Family plays an important role i...           27\n",
       "2  A novel hybrid system composed of a photocatal...           23\n",
       "3  In Einstein-aether theory, violating Lorentz i...           27\n",
       "4  With the vigorous spread of renewable energy, ...           26"
      ]
     },
     "execution_count": 11,
     "metadata": {},
     "output_type": "execute_result"
    }
   ],
   "source": [
    "df[['text','punctuation']].head()"
   ]
  },
  {
   "cell_type": "code",
   "execution_count": 12,
   "id": "8210c637",
   "metadata": {},
   "outputs": [
    {
     "data": {
      "text/html": [
       "<div>\n",
       "<style scoped>\n",
       "    .dataframe tbody tr th:only-of-type {\n",
       "        vertical-align: middle;\n",
       "    }\n",
       "\n",
       "    .dataframe tbody tr th {\n",
       "        vertical-align: top;\n",
       "    }\n",
       "\n",
       "    .dataframe thead th {\n",
       "        text-align: right;\n",
       "    }\n",
       "</style>\n",
       "<table border=\"1\" class=\"dataframe\">\n",
       "  <thead>\n",
       "    <tr style=\"text-align: right;\">\n",
       "      <th></th>\n",
       "      <th>text</th>\n",
       "      <th>numerics</th>\n",
       "    </tr>\n",
       "  </thead>\n",
       "  <tbody>\n",
       "    <tr>\n",
       "      <th>0</th>\n",
       "      <td>A versatile potentiostat based on inexpensive ...</td>\n",
       "      <td>0</td>\n",
       "    </tr>\n",
       "    <tr>\n",
       "      <th>1</th>\n",
       "      <td>Introduction: Family plays an important role i...</td>\n",
       "      <td>1</td>\n",
       "    </tr>\n",
       "    <tr>\n",
       "      <th>2</th>\n",
       "      <td>A novel hybrid system composed of a photocatal...</td>\n",
       "      <td>2</td>\n",
       "    </tr>\n",
       "    <tr>\n",
       "      <th>3</th>\n",
       "      <td>In Einstein-aether theory, violating Lorentz i...</td>\n",
       "      <td>0</td>\n",
       "    </tr>\n",
       "    <tr>\n",
       "      <th>4</th>\n",
       "      <td>With the vigorous spread of renewable energy, ...</td>\n",
       "      <td>1</td>\n",
       "    </tr>\n",
       "  </tbody>\n",
       "</table>\n",
       "</div>"
      ],
      "text/plain": [
       "                                                text  numerics\n",
       "0  A versatile potentiostat based on inexpensive ...         0\n",
       "1  Introduction: Family plays an important role i...         1\n",
       "2  A novel hybrid system composed of a photocatal...         2\n",
       "3  In Einstein-aether theory, violating Lorentz i...         0\n",
       "4  With the vigorous spread of renewable energy, ...         1"
      ]
     },
     "execution_count": 12,
     "metadata": {},
     "output_type": "execute_result"
    }
   ],
   "source": [
    "# Count the numbers\n",
    "df['numerics'] = df['text'].apply(lambda x: len([x for x in x.split() if x.isdigit()]))\n",
    "df[['text','numerics']].head()"
   ]
  },
  {
   "cell_type": "code",
   "execution_count": 13,
   "id": "0fe8800b",
   "metadata": {},
   "outputs": [
    {
     "data": {
      "text/html": [
       "<div>\n",
       "<style scoped>\n",
       "    .dataframe tbody tr th:only-of-type {\n",
       "        vertical-align: middle;\n",
       "    }\n",
       "\n",
       "    .dataframe tbody tr th {\n",
       "        vertical-align: top;\n",
       "    }\n",
       "\n",
       "    .dataframe thead th {\n",
       "        text-align: right;\n",
       "    }\n",
       "</style>\n",
       "<table border=\"1\" class=\"dataframe\">\n",
       "  <thead>\n",
       "    <tr style=\"text-align: right;\">\n",
       "      <th></th>\n",
       "      <th>text</th>\n",
       "      <th>upper</th>\n",
       "    </tr>\n",
       "  </thead>\n",
       "  <tbody>\n",
       "    <tr>\n",
       "      <th>0</th>\n",
       "      <td>A versatile potentiostat based on inexpensive ...</td>\n",
       "      <td>1</td>\n",
       "    </tr>\n",
       "    <tr>\n",
       "      <th>1</th>\n",
       "      <td>Introduction: Family plays an important role i...</td>\n",
       "      <td>2</td>\n",
       "    </tr>\n",
       "    <tr>\n",
       "      <th>2</th>\n",
       "      <td>A novel hybrid system composed of a photocatal...</td>\n",
       "      <td>12</td>\n",
       "    </tr>\n",
       "    <tr>\n",
       "      <th>3</th>\n",
       "      <td>In Einstein-aether theory, violating Lorentz i...</td>\n",
       "      <td>0</td>\n",
       "    </tr>\n",
       "    <tr>\n",
       "      <th>4</th>\n",
       "      <td>With the vigorous spread of renewable energy, ...</td>\n",
       "      <td>2</td>\n",
       "    </tr>\n",
       "  </tbody>\n",
       "</table>\n",
       "</div>"
      ],
      "text/plain": [
       "                                                text  upper\n",
       "0  A versatile potentiostat based on inexpensive ...      1\n",
       "1  Introduction: Family plays an important role i...      2\n",
       "2  A novel hybrid system composed of a photocatal...     12\n",
       "3  In Einstein-aether theory, violating Lorentz i...      0\n",
       "4  With the vigorous spread of renewable energy, ...      2"
      ]
     },
     "execution_count": 13,
     "metadata": {},
     "output_type": "execute_result"
    }
   ],
   "source": [
    "# Count the uppercase words\n",
    "df['upper'] = df['text'].apply(lambda x: len([x for x in x.split() if x.isupper()]))\n",
    "df[['text','upper']].head()"
   ]
  },
  {
   "cell_type": "markdown",
   "id": "eaacd322",
   "metadata": {},
   "source": [
    "#### Preprocess Data"
   ]
  },
  {
   "cell_type": "code",
   "execution_count": 35,
   "id": "fb7daf13",
   "metadata": {},
   "outputs": [
    {
     "data": {
      "text/plain": [
       "0    versatile potentiostat base inexpensive shelf ...\n",
       "1    introduction family play important role patien...\n",
       "2    novel hybrid compose photocatalytic fuel pfc f...\n",
       "3    einsteinaether theory violate lorentz invarian...\n",
       "4    vigorous spread renewable energy much attentio...\n",
       "Name: text, dtype: object"
      ]
     },
     "execution_count": 35,
     "metadata": {},
     "output_type": "execute_result"
    }
   ],
   "source": [
    "# Convert text to lowercase\n",
    "df['text'] = df['text'].apply(lambda x: \" \".join(x.lower() for x in x.split()))\n",
    "df['text'].head()"
   ]
  },
  {
   "cell_type": "code",
   "execution_count": 36,
   "id": "6483aadf",
   "metadata": {},
   "outputs": [
    {
     "name": "stderr",
     "output_type": "stream",
     "text": [
      "/var/folders/fx/wfh1hq7s74l7s32dj3t81jdc0000gn/T/ipykernel_31686/3558066172.py:2: FutureWarning: The default value of regex will change from True to False in a future version.\n",
      "  df['text'] = df['text'].str.replace('[^\\w\\s]','')\n"
     ]
    },
    {
     "data": {
      "text/plain": [
       "0    versatile potentiostat base inexpensive shelf ...\n",
       "1    introduction family play important role patien...\n",
       "2    novel hybrid compose photocatalytic fuel pfc f...\n",
       "3    einsteinaether theory violate lorentz invarian...\n",
       "4    vigorous spread renewable energy much attentio...\n",
       "Name: text, dtype: object"
      ]
     },
     "execution_count": 36,
     "metadata": {},
     "output_type": "execute_result"
    }
   ],
   "source": [
    "# Remove punctuation\n",
    "df['text'] = df['text'].str.replace('[^\\w\\s]','')\n",
    "df['text'].head()"
   ]
  },
  {
   "cell_type": "code",
   "execution_count": 37,
   "id": "180b8adf",
   "metadata": {},
   "outputs": [
    {
     "data": {
      "text/plain": [
       "184    compact ghz doppler radar module develop paper...\n",
       "26     analytic thermodynamic establish quantitativel...\n",
       "138    melatonin affect variety physiological process...\n",
       "91     background erythropoiesisstimulating agent esa...\n",
       "115    brief overview vortexinduced vibration viv bri...\n",
       "207    physician implicit racial bias find predict ra...\n",
       "36     propose calculate composition gaasxpx solid so...\n",
       "117    vi european guideline cardiovascular preventio...\n",
       "175    project owner important project participant in...\n",
       "164    green roof propose efficient practical tool co...\n",
       "Name: text, dtype: object"
      ]
     },
     "execution_count": 37,
     "metadata": {},
     "output_type": "execute_result"
    }
   ],
   "source": [
    "# Remove stop words\n",
    "from nltk.corpus import stopwords\n",
    "stop = stopwords.words('english')\n",
    "df['text'] = df['text'].apply(lambda x: \" \".join(x for x in x.split() if x not in stop))\n",
    "df['text'].sample(10)"
   ]
  },
  {
   "cell_type": "code",
   "execution_count": 38,
   "id": "0fd8e877",
   "metadata": {},
   "outputs": [
    {
     "data": {
      "text/plain": [
       "0    versatile potentiostat base expensive shelf co...\n",
       "1    introduction family play important role patien...\n",
       "2    novel horrid compose photocatalytic fuel of fe...\n",
       "3    einsteinaether theory violate lorentz variance...\n",
       "4    vigorous spread renewal energy much attention ...\n",
       "Name: text, dtype: object"
      ]
     },
     "execution_count": 38,
     "metadata": {},
     "output_type": "execute_result"
    }
   ],
   "source": [
    "# Correct spelling\n",
    "from textblob import TextBlob\n",
    "df['text'][:5].apply(lambda x: str(TextBlob(x).correct()))"
   ]
  },
  {
   "cell_type": "code",
   "execution_count": 39,
   "id": "5cd137a7",
   "metadata": {},
   "outputs": [],
   "source": [
    "# Save the preprocessed_data as a new CSV\n",
    "df.to_csv('processed_data.csv', index=False)"
   ]
  },
  {
   "cell_type": "markdown",
   "id": "1c927b3e",
   "metadata": {},
   "source": [
    "### Upload data to Azure\n",
    "\n",
    "The below code is based on this Quickstart guide: https://docs.microsoft.com/en-us/azure/storage/blobs/storage-quickstart-blobs-python?tabs=environment-variable-linux."
   ]
  },
  {
   "cell_type": "code",
   "execution_count": 20,
   "id": "55c5720c",
   "metadata": {},
   "outputs": [
    {
     "name": "stdout",
     "output_type": "stream",
     "text": [
      "Azure Blob Storage v12.13.0 - Python quickstart sample\n"
     ]
    }
   ],
   "source": [
    "from azure.storage.blob import BlobServiceClient\n",
    "from dotenv import load_dotenv\n",
    "\n",
    "load_dotenv()\n",
    "\n",
    "AZURE_STORAGE_CONNECTION_STRING = os.getenv(\"AZURE_STORAGE_CONNECTION_STRING\")\n",
    "CONTAINER_NAME = os.getenv(\"CONTAINER_NAME\")\n",
    "\n",
    "blob_service_client = BlobServiceClient.from_connection_string(AZURE_STORAGE_CONNECTION_STRING)\n",
    "\n",
    "try:\n",
    "    print(\"Uploading...\")\n",
    "    \n",
    "    # Loop through each row and upload to Azure\n",
    "    for _index, row in df.iterrows():\n",
    "        blob_client = blob_service_client.get_blob_client(container=CONTAINER_NAME, blob=row['filename'])\n",
    "        # Set overwrite to true \n",
    "        blob_client.upload_blob(row['text'], overwrite=True)\n",
    "    \n",
    "    print(\"Finished\")\n",
    "\n",
    "except Exception as ex:\n",
    "    print('Exception:')\n",
    "    print(ex)"
   ]
  },
  {
   "cell_type": "code",
   "execution_count": null,
   "id": "687ad886",
   "metadata": {},
   "outputs": [],
   "source": [
    "# Remove numbers, lemmatization, and whitespace"
   ]
  },
  {
   "cell_type": "code",
   "execution_count": 40,
   "id": "b2370faa",
   "metadata": {},
   "outputs": [
    {
     "name": "stderr",
     "output_type": "stream",
     "text": [
      "/var/folders/fx/wfh1hq7s74l7s32dj3t81jdc0000gn/T/ipykernel_31686/1416691737.py:2: FutureWarning: The default value of regex will change from True to False in a future version.\n",
      "  df['text'] = df['text'].str.replace('\\d+', '')\n"
     ]
    },
    {
     "data": {
      "text/plain": [
       "0    versatile potentiostat base inexpensive shelf ...\n",
       "1    introduction family play important role patien...\n",
       "2    novel hybrid compose photocatalytic fuel pfc f...\n",
       "3    einsteinaether theory violate lorentz invarian...\n",
       "4    vigorous spread renewable energy much attentio...\n",
       "Name: text, dtype: object"
      ]
     },
     "execution_count": 40,
     "metadata": {},
     "output_type": "execute_result"
    }
   ],
   "source": [
    "# Remove numbers\n",
    "df['text'] = df['text'].str.replace('\\d+', '')\n",
    "df['text'].head()"
   ]
  },
  {
   "cell_type": "code",
   "execution_count": 23,
   "id": "370a1efb",
   "metadata": {},
   "outputs": [],
   "source": [
    "df.to_csv('processed_data.csv', index=False)"
   ]
  },
  {
   "cell_type": "code",
   "execution_count": 41,
   "id": "c752f7d4",
   "metadata": {},
   "outputs": [
    {
     "name": "stderr",
     "output_type": "stream",
     "text": [
      "[nltk_data] Downloading package omw-1.4 to\n",
      "[nltk_data]     /Users/patmellon/nltk_data...\n",
      "[nltk_data]   Package omw-1.4 is already up-to-date!\n"
     ]
    },
    {
     "data": {
      "text/html": [
       "<div>\n",
       "<style scoped>\n",
       "    .dataframe tbody tr th:only-of-type {\n",
       "        vertical-align: middle;\n",
       "    }\n",
       "\n",
       "    .dataframe tbody tr th {\n",
       "        vertical-align: top;\n",
       "    }\n",
       "\n",
       "    .dataframe thead th {\n",
       "        text-align: right;\n",
       "    }\n",
       "</style>\n",
       "<table border=\"1\" class=\"dataframe\">\n",
       "  <thead>\n",
       "    <tr style=\"text-align: right;\">\n",
       "      <th></th>\n",
       "      <th>text</th>\n",
       "      <th>filename</th>\n",
       "      <th>stopwords</th>\n",
       "      <th>punctuation</th>\n",
       "      <th>numerics</th>\n",
       "      <th>upper</th>\n",
       "    </tr>\n",
       "  </thead>\n",
       "  <tbody>\n",
       "    <tr>\n",
       "      <th>0</th>\n",
       "      <td>versatile potentiostat base inexpensive shelf ...</td>\n",
       "      <td>060.txt</td>\n",
       "      <td>42</td>\n",
       "      <td>12</td>\n",
       "      <td>0</td>\n",
       "      <td>1</td>\n",
       "    </tr>\n",
       "    <tr>\n",
       "      <th>1</th>\n",
       "      <td>introduction family play important role patien...</td>\n",
       "      <td>074.txt</td>\n",
       "      <td>84</td>\n",
       "      <td>27</td>\n",
       "      <td>1</td>\n",
       "      <td>2</td>\n",
       "    </tr>\n",
       "    <tr>\n",
       "      <th>2</th>\n",
       "      <td>novel hybrid compose photocatalytic fuel pfc f...</td>\n",
       "      <td>048.txt</td>\n",
       "      <td>40</td>\n",
       "      <td>23</td>\n",
       "      <td>2</td>\n",
       "      <td>12</td>\n",
       "    </tr>\n",
       "    <tr>\n",
       "      <th>3</th>\n",
       "      <td>einsteinaether theory violate lorentz invarian...</td>\n",
       "      <td>114.txt</td>\n",
       "      <td>45</td>\n",
       "      <td>27</td>\n",
       "      <td>0</td>\n",
       "      <td>0</td>\n",
       "    </tr>\n",
       "    <tr>\n",
       "      <th>4</th>\n",
       "      <td>vigorous spread renewable energy much attentio...</td>\n",
       "      <td>100.txt</td>\n",
       "      <td>72</td>\n",
       "      <td>26</td>\n",
       "      <td>1</td>\n",
       "      <td>2</td>\n",
       "    </tr>\n",
       "  </tbody>\n",
       "</table>\n",
       "</div>"
      ],
      "text/plain": [
       "                                                text filename  stopwords  \\\n",
       "0  versatile potentiostat base inexpensive shelf ...  060.txt         42   \n",
       "1  introduction family play important role patien...  074.txt         84   \n",
       "2  novel hybrid compose photocatalytic fuel pfc f...  048.txt         40   \n",
       "3  einsteinaether theory violate lorentz invarian...  114.txt         45   \n",
       "4  vigorous spread renewable energy much attentio...  100.txt         72   \n",
       "\n",
       "   punctuation  numerics  upper  \n",
       "0           12         0      1  \n",
       "1           27         1      2  \n",
       "2           23         2     12  \n",
       "3           27         0      0  \n",
       "4           26         1      2  "
      ]
     },
     "execution_count": 41,
     "metadata": {},
     "output_type": "execute_result"
    }
   ],
   "source": [
    "# https://www.kaggle.com/code/sudalairajkumar/getting-started-with-text-preprocessing\n",
    "import nltk\n",
    "nltk.download('omw-1.4')\n",
    "from nltk.corpus import wordnet\n",
    "from nltk.stem import WordNetLemmatizer\n",
    "\n",
    "lemmatizer = WordNetLemmatizer()\n",
    "wordnet_map = {\"N\":wordnet.NOUN, \"V\":wordnet.VERB, \"J\":wordnet.ADJ, \"R\":wordnet.ADV}\n",
    "def lemmatize_words(text):\n",
    "    pos_tagged_text = nltk.pos_tag(text.split())\n",
    "    return \" \".join([lemmatizer.lemmatize(word, wordnet_map.get(pos[0], wordnet.NOUN)) for word, pos in pos_tagged_text])\n",
    "\n",
    "df[\"text\"] = df[\"text\"].apply(lambda text: lemmatize_words(text))\n",
    "df.head()"
   ]
  },
  {
   "cell_type": "code",
   "execution_count": 47,
   "id": "f1e8ec59",
   "metadata": {},
   "outputs": [],
   "source": [
    "# Remove whitespace\n",
    "df[\"text\"] = df[\"text\"].str.strip() "
   ]
  },
  {
   "cell_type": "code",
   "execution_count": 48,
   "id": "1d0c1dd0",
   "metadata": {},
   "outputs": [
    {
     "data": {
      "text/html": [
       "<div>\n",
       "<style scoped>\n",
       "    .dataframe tbody tr th:only-of-type {\n",
       "        vertical-align: middle;\n",
       "    }\n",
       "\n",
       "    .dataframe tbody tr th {\n",
       "        vertical-align: top;\n",
       "    }\n",
       "\n",
       "    .dataframe thead th {\n",
       "        text-align: right;\n",
       "    }\n",
       "</style>\n",
       "<table border=\"1\" class=\"dataframe\">\n",
       "  <thead>\n",
       "    <tr style=\"text-align: right;\">\n",
       "      <th></th>\n",
       "      <th>text</th>\n",
       "      <th>filename</th>\n",
       "      <th>stopwords</th>\n",
       "      <th>punctuation</th>\n",
       "      <th>numerics</th>\n",
       "      <th>upper</th>\n",
       "    </tr>\n",
       "  </thead>\n",
       "  <tbody>\n",
       "    <tr>\n",
       "      <th>0</th>\n",
       "      <td>versatile potentiostat base inexpensive shelf ...</td>\n",
       "      <td>060.txt</td>\n",
       "      <td>42</td>\n",
       "      <td>12</td>\n",
       "      <td>0</td>\n",
       "      <td>1</td>\n",
       "    </tr>\n",
       "    <tr>\n",
       "      <th>1</th>\n",
       "      <td>introduction family play important role patien...</td>\n",
       "      <td>074.txt</td>\n",
       "      <td>84</td>\n",
       "      <td>27</td>\n",
       "      <td>1</td>\n",
       "      <td>2</td>\n",
       "    </tr>\n",
       "    <tr>\n",
       "      <th>2</th>\n",
       "      <td>novel hybrid compose photocatalytic fuel pfc f...</td>\n",
       "      <td>048.txt</td>\n",
       "      <td>40</td>\n",
       "      <td>23</td>\n",
       "      <td>2</td>\n",
       "      <td>12</td>\n",
       "    </tr>\n",
       "    <tr>\n",
       "      <th>3</th>\n",
       "      <td>einsteinaether theory violate lorentz invarian...</td>\n",
       "      <td>114.txt</td>\n",
       "      <td>45</td>\n",
       "      <td>27</td>\n",
       "      <td>0</td>\n",
       "      <td>0</td>\n",
       "    </tr>\n",
       "    <tr>\n",
       "      <th>4</th>\n",
       "      <td>vigorous spread renewable energy much attentio...</td>\n",
       "      <td>100.txt</td>\n",
       "      <td>72</td>\n",
       "      <td>26</td>\n",
       "      <td>1</td>\n",
       "      <td>2</td>\n",
       "    </tr>\n",
       "  </tbody>\n",
       "</table>\n",
       "</div>"
      ],
      "text/plain": [
       "                                                text filename  stopwords  \\\n",
       "0  versatile potentiostat base inexpensive shelf ...  060.txt         42   \n",
       "1  introduction family play important role patien...  074.txt         84   \n",
       "2  novel hybrid compose photocatalytic fuel pfc f...  048.txt         40   \n",
       "3  einsteinaether theory violate lorentz invarian...  114.txt         45   \n",
       "4  vigorous spread renewable energy much attentio...  100.txt         72   \n",
       "\n",
       "   punctuation  numerics  upper  \n",
       "0           12         0      1  \n",
       "1           27         1      2  \n",
       "2           23         2     12  \n",
       "3           27         0      0  \n",
       "4           26         1      2  "
      ]
     },
     "execution_count": 48,
     "metadata": {},
     "output_type": "execute_result"
    }
   ],
   "source": [
    "df.head()"
   ]
  },
  {
   "cell_type": "code",
   "execution_count": 49,
   "id": "40e70ca1",
   "metadata": {},
   "outputs": [],
   "source": [
    "df.to_csv('processed_data.csv', index=False)"
   ]
  },
  {
   "cell_type": "code",
   "execution_count": 50,
   "id": "176e1b05",
   "metadata": {},
   "outputs": [
    {
     "name": "stdout",
     "output_type": "stream",
     "text": [
      "Uploading...\n",
      "Finished\n"
     ]
    }
   ],
   "source": [
    "from azure.storage.blob import BlobServiceClient\n",
    "from dotenv import load_dotenv\n",
    "\n",
    "load_dotenv()\n",
    "\n",
    "AZURE_STORAGE_CONNECTION_STRING = os.getenv(\"AZURE_STORAGE_CONNECTION_STRING\")\n",
    "CONTAINER_NAME = os.getenv(\"CONTAINER_NAME\")\n",
    "\n",
    "blob_service_client = BlobServiceClient.from_connection_string(AZURE_STORAGE_CONNECTION_STRING)\n",
    "\n",
    "try:\n",
    "    print(\"Uploading...\")\n",
    "    \n",
    "    # Loop through each row and upload to Azure\n",
    "    for _index, row in df.iterrows():\n",
    "        blob_client = blob_service_client.get_blob_client(container=CONTAINER_NAME, blob=row['filename'])\n",
    "        # Set overwrite to true \n",
    "        blob_client.upload_blob(row['text'], overwrite=True)\n",
    "    \n",
    "    print(\"Finished\")\n",
    "\n",
    "except Exception as ex:\n",
    "    print('Exception:')\n",
    "    print(ex)"
   ]
  }
 ],
 "metadata": {
  "kernelspec": {
   "display_name": "Python 3 (ipykernel)",
   "language": "python",
   "name": "python3"
  },
  "language_info": {
   "codemirror_mode": {
    "name": "ipython",
    "version": 3
   },
   "file_extension": ".py",
   "mimetype": "text/x-python",
   "name": "python",
   "nbconvert_exporter": "python",
   "pygments_lexer": "ipython3",
   "version": "3.8.9"
  }
 },
 "nbformat": 4,
 "nbformat_minor": 5
}
